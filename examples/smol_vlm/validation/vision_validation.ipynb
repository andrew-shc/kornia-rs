{
 "cells": [
  {
   "cell_type": "markdown",
   "id": "220fed7d",
   "metadata": {},
   "source": [
    "## validating image interpolation"
   ]
  },
  {
   "cell_type": "code",
   "execution_count": null,
   "id": "d962a1eb",
   "metadata": {},
   "outputs": [],
   "source": []
  },
  {
   "cell_type": "markdown",
   "id": "3ab7fd12",
   "metadata": {},
   "source": [
    "## validating various layers"
   ]
  },
  {
   "cell_type": "code",
   "execution_count": null,
   "id": "ad3e147a",
   "metadata": {},
   "outputs": [],
   "source": []
  }
 ],
 "metadata": {
  "language_info": {
   "name": "python"
  }
 },
 "nbformat": 4,
 "nbformat_minor": 5
}
