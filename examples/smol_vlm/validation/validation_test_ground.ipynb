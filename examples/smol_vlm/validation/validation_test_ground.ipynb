{
 "cells": [
  {
   "cell_type": "code",
   "execution_count": 1,
   "id": "c98ce996",
   "metadata": {},
   "outputs": [],
   "source": [
    "import torch\n",
    "from PIL import Image\n",
    "from transformers import AutoProcessor, AutoModelForVision2Seq\n",
    "from transformers.image_utils import load_image\n",
    "\n",
    "DEVICE = \"cuda\"\n",
    "\n",
    "\n",
    "import torch, random, numpy as np\n",
    "from transformers import set_seed\n",
    "\n",
    "def set_all_seeds(seed=42):\n",
    "    random.seed(seed)\n",
    "    np.random.seed(seed)\n",
    "    torch.manual_seed(seed)\n",
    "    torch.cuda.manual_seed_all(seed)\n",
    "    set_seed(seed)\n",
    "    torch.backends.cudnn.deterministic = True\n",
    "\n",
    "set_all_seeds(9)\n",
    "\n",
    "from safetensors import safe_open"
   ]
  },
  {
   "cell_type": "code",
   "execution_count": 8,
   "id": "286c1f3d",
   "metadata": {},
   "outputs": [
    {
     "name": "stdout",
     "output_type": "stream",
     "text": [
      "Image 1 size: (300, 300)\n",
      "Image 2 size: (800, 450)\n",
      "Image 3 size: (474, 474)\n"
     ]
    }
   ],
   "source": [
    "# rust\n",
    "# cargo run -p smol_vlm --features cuda -- -i .vscode/angela-porter-2021-jan-25.jpg -p \"Can you describe the image?\" --sample-length 500\n",
    "# cargo run -p smol_vlm --features cuda -- -p \"A real-valued function f defined on the real line is called an even function if f(-t) = f(t) for each real number t. Prove that the set of even functions defined on the real line with the operations of addition and scalar multiplication defined in Example 3 is a vector space.\" --sample-length 200\n",
    "# cargo run -p smol_vlm --features cuda -- -p \"Can you describe the image?\" --sample-length 500\n",
    "# cargo run -p smol_vlm --features cuda -- -p \"What is life?\" --sample-length 500\n",
    "\n",
    "# Load three images from local paths\n",
    "img = ['/home/ahc/Documents/kornia-rs/.vscode/featured-stovetop-burgers-recipe-300x\\\n",
    "300.jpg', '/home/ahc/Documents/kornia-rs/.vscode/witness-raw-beauty-majestic-mountain-landscape-meticulously\\\n",
    "-captured-to-showcase-intricate-details-nature-s-artistry-349750953.jpg', '/home/ahc/Documents/kornia-rs/.vs\\\n",
    "code/0965b93f250920c1ee8a9a2b0ba0c291.jpg']\n",
    "image1 = Image.open(img[0])\n",
    "image2 = Image.open(img[1])\n",
    "image3 = Image.open(img[2])  # Replace with your third image path\n",
    "\n",
    "print(f\"Image 1 size: {image1.size}\")\n",
    "print(f\"Image 2 size: {image2.size}\")\n",
    "print(f\"Image 3 size: {image3.size}\")\n",
    "\n",
    "processor = AutoProcessor.from_pretrained(\"HuggingFaceTB/SmolVLM-Instruct\")\n",
    "messages = [\n",
    "    {\n",
    "        \"role\": \"user\",\n",
    "        \"content\": [\n",
    "            {\"type\": \"image\"},\n",
    "            {\"type\": \"image\"},\n",
    "            # {\"type\": \"image\"},\n",
    "            {\"type\": \"text\", \"text\": \"Can you describe the two images?\"},\n",
    "        ]\n",
    "    },\n",
    "]"
   ]
  },
  {
   "cell_type": "code",
   "execution_count": 3,
   "id": "67fa3593",
   "metadata": {},
   "outputs": [],
   "source": [
    "# Initialize model directly on CUDA without Flash Attention\n",
    "model = AutoModelForVision2Seq.from_pretrained(\n",
    "    \"HuggingFaceTB/SmolVLM-Instruct\",\n",
    "    torch_dtype=torch.bfloat16,\n",
    "    # _attn_implementation=\"flash_attention_2\",  # Commented out Flash Attention\n",
    "    device_map=\"cuda\",\n",
    ")\n",
    "model.eval();"
   ]
  },
  {
   "cell_type": "code",
   "execution_count": 9,
   "id": "c4226de7",
   "metadata": {},
   "outputs": [
    {
     "name": "stdout",
     "output_type": "stream",
     "text": [
      "tensor([[    1, 11126,    42,  ...,  9519,  9531,    42]], device='cuda:0')\n"
     ]
    },
    {
     "data": {
      "text/plain": [
       "tensor([    1, 11126,    42,  ..., 20232,    30, 49154], device='cuda:0')"
      ]
     },
     "execution_count": 9,
     "metadata": {},
     "output_type": "execute_result"
    }
   ],
   "source": [
    "# Prepare inputs\n",
    "prompt = processor.apply_chat_template(messages, add_generation_prompt=True)\n",
    "inputs = processor(text=prompt, images=[image1, image2], return_tensors=\"pt\")\n",
    "inputs = inputs.to(\"cuda\")\n",
    "\n",
    "print(inputs[\"input_ids\"])\n",
    "# Generate outputs\n",
    "with torch.no_grad():\n",
    "    outputs = model.generate(\n",
    "        **inputs,\n",
    "        max_new_tokens=500,\n",
    "        # repition_penalty=1.1,  # Apply repeat penalty\n",
    "        output_scores=True,           # Return logits for each generated token\n",
    "        return_dict_in_generate=True, # Return detailed output object\n",
    "        do_sample=False,  # Use greedy decoding (highest logit)\n",
    "    )\n",
    "\n",
    "outputs.sequences[0]"
   ]
  },
  {
   "cell_type": "code",
   "execution_count": 10,
   "id": "1f420759",
   "metadata": {},
   "outputs": [
    {
     "data": {
      "text/plain": [
       "'User:<row_1_col_1><row_1_col_2><row_1_col_3><row_1_col_4>\\n<row_2_col_1><row_2_col_2><row_2_col_3><row_2_col_4>\\n<row_3_col_1><row_3_col_2><row_3_col_3><row_3_col_4>\\n<row_4_col_1><row_4_col_2><row_4_col_3><row_4_col_4>\\n\\n<global-img><row_1_col_1><row_1_col_2><row_1_col_3><row_1_col_4>\\n<row_2_col_1><row_2_col_2><row_2_col_3><row_2_col_4>\\n<row_3_col_1><row_3_col_2><row_3_col_3><row_3_col_4>\\n\\n<global-img>Can you describe the two images?\\nAssistant: The first image shows a close-up of a burger with lettuce, tomato, and cheese on a sesame seed bun. The burger is on a white plate with a bowl of pickles and a wooden table. The second image shows a mountain range with snow-capped peaks and green valleys.'"
      ]
     },
     "execution_count": 10,
     "metadata": {},
     "output_type": "execute_result"
    }
   ],
   "source": [
    "processor.tokenizer.decode(outputs.sequences[0], skip_special_tokens=True)"
   ]
  },
  {
   "cell_type": "code",
   "execution_count": null,
   "id": "9abda863",
   "metadata": {},
   "outputs": [
    {
     "data": {
      "text/plain": [
       "\"\\n'User: Can you describe these three images?\\n      <row_1_col_1><row_1_col_2><row_1_col_3><row_1_col_4>\\n    \\n<row_2_col_1><row_2_col_2><row_2_col_3><row_2_col_4>\\n    \\n<row_3_col_1><row_3_col_2><row_3_col_3><row_3_col_4>\\n    \\n<row_4_col_1><row_4_col_2><row_4_col_3><row_4_col_4>\\n    \\n\\n<global-img><row_1_col_1><row_1_col_2><row_1_col_3><row_1_col_4>\\n\\n    \\n<row_2_col_1><row_2_col_2><row_2_col_3><row_2_col_4>\\n    \\n<row_3_col_1><row_3_col_2><row_3_col_3><row_3_col_4>\\n    \\n\\n<global-img><row_1_col_1><row_1_col_2><row_1_col_3><row_1_col_4>\\n\\n    \\n<row_2_col_1><row_2_col_2><row_2_col_3><row_2_col_4>\\n    \\n<row_3_col_1><row_3_col_2><row_3_col_3><row_3_col_4>\\n<row_4_col_1><row_4_col_2><row_4_col_3><row_4_col_4>\\n\\n<global-img>\\n\\nAssistant: The image is an anime-style drawing of a pair of feet wearing Nike brand sneakers.\\nThe feet are in the air, and the person is wearing blue jeans. The sky is blue with white clouds,\\nand the sun is shining.'\\n\""
      ]
     },
     "execution_count": 7,
     "metadata": {},
     "output_type": "execute_result"
    }
   ],
   "source": [
    "\"\"\"\n",
    "'User: Can you describe these three images?\n",
    "      <row_1_col_1><row_1_col_2><row_1_col_3><row_1_col_4>\n",
    "    \\n<row_2_col_1><row_2_col_2><row_2_col_3><row_2_col_4>\n",
    "    \\n<row_3_col_1><row_3_col_2><row_3_col_3><row_3_col_4>\n",
    "    \\n<row_4_col_1><row_4_col_2><row_4_col_3><row_4_col_4>\n",
    "    \\n\\n<global-img>\n",
    "    \n",
    "      <row_1_col_1><row_1_col_2><row_1_col_3><row_1_col_4>\n",
    "    \\n<row_2_col_1><row_2_col_2><row_2_col_3><row_2_col_4>\n",
    "    \\n<row_3_col_1><row_3_col_2><row_3_col_3><row_3_col_4>\n",
    "    \\n\\n<global-img>\n",
    "    \n",
    "      <row_1_col_1><row_1_col_2><row_1_col_3><row_1_col_4>\n",
    "    \\n<row_2_col_1><row_2_col_2><row_2_col_3><row_2_col_4>\n",
    "    \\n<row_3_col_1><row_3_col_2><row_3_col_3><row_3_col_4>\n",
    "    \\n<row_4_col_1><row_4_col_2><row_4_col_3><row_4_col_4>\n",
    "    \\n\\n<global-img>\n",
    "\\nAssistant: The image is an anime-style drawing of a pair of feet wearing Nike brand sneakers.\n",
    "The feet are in the air, and the person is wearing blue jeans. The sky is blue with white clouds,\n",
    "and the sun is shining.'\n",
    "\"\"\""
   ]
  }
 ],
 "metadata": {
  "kernelspec": {
   "display_name": "base",
   "language": "python",
   "name": "python3"
  },
  "language_info": {
   "codemirror_mode": {
    "name": "ipython",
    "version": 3
   },
   "file_extension": ".py",
   "mimetype": "text/x-python",
   "name": "python",
   "nbconvert_exporter": "python",
   "pygments_lexer": "ipython3",
   "version": "3.13.2"
  }
 },
 "nbformat": 4,
 "nbformat_minor": 5
}
