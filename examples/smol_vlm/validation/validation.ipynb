{
 "cells": [
  {
   "cell_type": "code",
   "execution_count": 1,
   "id": "c98ce996",
   "metadata": {},
   "outputs": [],
   "source": [
    "import torch\n",
    "from PIL import Image\n",
    "from transformers import AutoProcessor, AutoModelForVision2Seq\n",
    "from transformers.image_utils import load_image\n",
    "\n",
    "DEVICE = \"cuda\""
   ]
  },
  {
   "cell_type": "code",
   "execution_count": 19,
   "id": "dd567e71",
   "metadata": {},
   "outputs": [],
   "source": [
    "# Load images\n",
    "# image1 = load_image(\"https://media.istockphoto.com/id/485371557/photo/twilight-at-spirit-island.jpg?s=612x612&w=0&k=20&c=FSGliJ4EKFP70Yjpzso0HfRR4WwflC6GKfl4F3Hj7fk=\")\n",
    "# image2 = load_image(\"https://huggingface.co/spaces/merve/chameleon-7b/resolve/main/bee.jpg\")\n",
    "image1 = Image.open(\"../../../.vscode/fuji-mountain-in-autumn.jpg\")\n",
    "\n",
    "# Initialize processor and model\n",
    "processor = AutoProcessor.from_pretrained(\"HuggingFaceTB/SmolVLM-Instruct\")\n",
    "\n",
    "# Initialize model directly on CUDA with Flash Attention 2.0\n",
    "model = AutoModelForVision2Seq.from_pretrained(\n",
    "    \"HuggingFaceTB/SmolVLM-Instruct\",\n",
    "    torch_dtype=torch.bfloat16,\n",
    "    _attn_implementation=\"flash_attention_2\",\n",
    "    device_map=\"cuda\",\n",
    ")\n",
    "\n",
    "# Create input messages\n",
    "messages = [\n",
    "    {\n",
    "        \"role\": \"user\",\n",
    "        \"content\": [\n",
    "            {\"type\": \"image\"},\n",
    "            # {\"type\": \"image\"},\n",
    "            {\"type\": \"text\", \"text\": \"Can you describe the image?\"}\n",
    "        ]\n",
    "    },\n",
    "]"
   ]
  },
  {
   "cell_type": "code",
   "execution_count": null,
   "id": "0599d635",
   "metadata": {},
   "outputs": [
    {
     "name": "stdout",
     "output_type": "stream",
     "text": [
      ">> User:<image>Can you describe the image?\n",
      "Assistant: The image features a scenic view of a mountain, likely Mount Fuji in Japan, with a bridge in the foreground and a body of water in the foreground. The mountain is partially covered with snow, indicating it is likely in the winter season. The sky is clear with a few clouds, and the water in the foreground is calm and still, reflecting the colors of the sky and the mountain. The bridge is a long, narrow structure that spans the body of water, and it appears to be a traditional wooden bridge with a simple design. The bridge is surrounded by trees, which are mostly green but have some hints of autumn foliage, suggesting the season is changing. The trees are reflected in the water, adding to the scenic beauty of the image.\n"
     ]
    }
   ],
   "source": [
    "# Prepare inputs\n",
    "prompt = processor.apply_chat_template(messages, add_generation_prompt=True)\n",
    "inputs = processor(text=prompt, images=[image1], return_tensors=\"pt\")\n",
    "inputs = inputs.to(\"cuda\")\n",
    "\n",
    "# Generate outputs\n",
    "generated_ids = model.generate(\n",
    "    **inputs,\n",
    "    max_new_tokens=500,\n",
    "    do_sample=False,  # Use greedy decoding (highest logit)\n",
    ")\n",
    "generated_texts = processor.batch_decode(\n",
    "    generated_ids,  # Slice to include only the first token\n",
    "    skip_special_tokens=True,\n",
    ")\n",
    "\n",
    "print(\">>\", generated_texts[0])"
   ]
  },
  {
   "cell_type": "code",
   "execution_count": null,
   "id": "90d8007e",
   "metadata": {},
   "outputs": [],
   "source": [
    "\"\"\"\n",
    ">> User:<image>Can you describe the image?\n",
    "Assistant: The image features a scenic view of a mountain, likely Mount Fuji in Japan, with a bridge in the foreground and a body of water in the foreground. The mountain is partially covered with snow, indicating it is likely in the winter season. The sky is clear with a few clouds, and the water in the foreground is calm and still, reflecting the colors of the sky and the mountain. The bridge is a long, narrow structure that spans the body of water, and it appears to be a traditional wooden bridge with a simple design. The bridge is surrounded by trees, which are mostly green but have some hints of autumn foliage, suggesting the season is changing. The trees are reflected in the water, adding to the scenic beauty of the image.\n",
    "\"\"\""
   ]
  }
 ],
 "metadata": {
  "kernelspec": {
   "display_name": "base",
   "language": "python",
   "name": "python3"
  },
  "language_info": {
   "codemirror_mode": {
    "name": "ipython",
    "version": 3
   },
   "file_extension": ".py",
   "mimetype": "text/x-python",
   "name": "python",
   "nbconvert_exporter": "python",
   "pygments_lexer": "ipython3",
   "version": "3.13.2"
  }
 },
 "nbformat": 4,
 "nbformat_minor": 5
}
